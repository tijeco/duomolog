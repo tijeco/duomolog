{
 "cells": [
  {
   "cell_type": "code",
   "execution_count": null,
   "metadata": {},
   "outputs": [],
   "source": [
    "# default_exp blast"
   ]
  },
  {
   "cell_type": "markdown",
   "metadata": {},
   "source": [
    "# Libraries"
   ]
  },
  {
   "cell_type": "code",
   "execution_count": null,
   "metadata": {},
   "outputs": [],
   "source": [
    "#export\n",
    "from io import StringIO\n",
    "from Bio.Blast.Applications import NcbimakeblastdbCommandline\n",
    "from Bio.Blast.Applications import NcbiblastpCommandline\n",
    "import pandas as pd "
   ]
  },
  {
   "cell_type": "code",
   "execution_count": null,
   "metadata": {},
   "outputs": [],
   "source": [
    "#hide\n",
    "from nbdev.showdoc import *"
   ]
  },
  {
   "cell_type": "code",
   "execution_count": null,
   "metadata": {},
   "outputs": [],
   "source": [
    "#export\n",
    "def run_blast(dbFile, queryFile):\n",
    "\tmakeblastdbCMD = NcbimakeblastdbCommandline(dbtype=\"prot\",\n",
    "    \tinput_file=dbFile)\n",
    "\tblastpCMD = NcbiblastpCommandline(query=queryFile, \n",
    "\t\tdb=dbFile, evalue=0.001, max_target_seqs=1, outfmt=6)\n",
    "\tprint(makeblastdbCMD)\n",
    "\tprint(blastpCMD)\n",
    "\tmakeblastdbOUT, makeblastdbERR = makeblastdbCMD()\n",
    "\t\n",
    "\tblastpOUT, blastpERR = blastpCMD()\n",
    "\tblastpDF = pd.read_csv(StringIO(blastpOUT),sep=\"\\t\", names = [\"qseqid\",\"sseqid\",\"pident\",\"length\",\"mismatch\",\"gapopen\",\"qstart\",\"qend\",\"sstart\",\"send\",\"evalue\",\"bitscore\"])\n",
    "\tblastpDF[\"sseqid\"].astype(str)\n",
    "\tblastpDF[\"qseqid\"].astype(str)\n",
    "\t\n",
    "\treturn blastpDF\n",
    "\t\t"
   ]
  },
  {
   "cell_type": "code",
   "execution_count": null,
   "metadata": {},
   "outputs": [],
   "source": [
    "#hide\n",
    "import shutil\n",
    "\n",
    "command = 'python'\n",
    "shutil.which(command)# is not None"
   ]
  },
  {
   "cell_type": "code",
   "execution_count": null,
   "metadata": {},
   "outputs": [],
   "source": [
    "#hide\n",
    "blast_test = run_blast(\"data/enolase.part001.fa\",\"data/enolase.part002.fa\")\n",
    "blast_test"
   ]
  },
  {
   "cell_type": "code",
   "execution_count": null,
   "metadata": {},
   "outputs": [],
   "source": [
    "#hide\n",
    "blast_test.to_csv(\"data/blastout.txt\",sep = \"\\t\",index=False)"
   ]
  },
  {
   "cell_type": "code",
   "execution_count": null,
   "metadata": {},
   "outputs": [],
   "source": [
    "#export\n",
    "def load_blast(blastout,inHeaders,hasHeaders=False):\n",
    "\tif hasHeaders:\n",
    "\t\tblastpDF = pd.read_csv(blastout, sep = \"\\t\")\n",
    "\telse:\n",
    "\t\tblastpDF = pd.read_csv(blastout, sep = \"\\t\", names = [\"qseqid\",\"sseqid\",\"pident\",\"length\",\"mismatch\",\t\t\t\"gapopen\",\"qstart\",\"qend\",\"sstart\",\"send\",\"evalue\",\"bitscore\"])\n",
    "\tblastpDF[\"sseqid\"].astype(str)\n",
    "\tblastpDF[\"qseqid\"].astype(str)\n",
    "\n",
    "\tblastHeaders = set(blastpDF[\"sseqid\"])\n",
    "\tblastHeaders_union_inHeaders = blastHeaders | set(inHeaders)\n",
    "\tprint(blastHeaders)\n",
    "\tprint(set(inHeaders))\n",
    "\tif blastHeaders_union_inHeaders  != set(inHeaders):\n",
    "\t\tsys.exit(\"the provided blast file contains headers not found in the input file\")\n",
    "\t\n",
    "\treturn blastpDF"
   ]
  },
  {
   "cell_type": "code",
   "execution_count": null,
   "metadata": {},
   "outputs": [],
   "source": [
    "#hide\n",
    "test_load_blast = load_blast(\"data/blastout.txt\", blast_test[\"sseqid\"].astype(str),hasHeaders=True)\n",
    "test_load_blast"
   ]
  },
  {
   "cell_type": "code",
   "execution_count": null,
   "metadata": {},
   "outputs": [],
   "source": []
  }
 ],
 "metadata": {
  "kernelspec": {
   "display_name": "duomolog",
   "language": "python",
   "name": "duomolog"
  }
 },
 "nbformat": 4,
 "nbformat_minor": 2
}
