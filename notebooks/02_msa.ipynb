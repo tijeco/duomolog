{
 "cells": [
  {
   "cell_type": "code",
   "execution_count": null,
   "metadata": {},
   "outputs": [],
   "source": [
    "# default_exp msa"
   ]
  },
  {
   "cell_type": "code",
   "execution_count": null,
   "metadata": {},
   "outputs": [],
   "source": [
    "#export\n",
    "from Bio.Align.Applications import MafftCommandline\n",
    "from io import StringIO\n",
    "from Bio import AlignIO"
   ]
  },
  {
   "cell_type": "code",
   "execution_count": null,
   "metadata": {},
   "outputs": [],
   "source": [
    "#export\n",
    "def run_mafft(fastaFile,format=\"fasta\"):\n",
    "\tmafft_cline = MafftCommandline(input = fastaFile)\n",
    "\tprint(mafft_cline)\n",
    "\tstdout, stderr = mafft_cline()\n",
    "\talignment = AlignIO.read(StringIO(stdout), format)\n",
    "\talignmentFile = writeAln(alignment, fastaFile,format=\"fasta\")\n",
    "\t\t\n",
    "\t# print(align)\n",
    "\treturn alignmentFile, alignment"
   ]
  },
  {
   "cell_type": "code",
   "execution_count": null,
   "metadata": {},
   "outputs": [],
   "source": [
    "#export\n",
    "def writeAln(aln, fastaFile,format=\"fasta\"):\n",
    "    alnFile = fastaFile + \".aln\"\n",
    "    AlignIO.write(aln,alnFile,format)\n",
    "    return alnFile"
   ]
  },
  {
   "cell_type": "code",
   "execution_count": null,
   "metadata": {},
   "outputs": [
    {
     "data": {
      "text/plain": [
       "'/Users/jeffcole/miniconda3/envs/duomolog/bin/mafft'"
      ]
     },
     "execution_count": null,
     "metadata": {},
     "output_type": "execute_result"
    }
   ],
   "source": [
    "#hide\n",
    "import shutil\n",
    "\n",
    "command = 'mafft'\n",
    "shutil.which(command)# is not None"
   ]
  },
  {
   "cell_type": "code",
   "execution_count": null,
   "metadata": {},
   "outputs": [
    {
     "name": "stdout",
     "output_type": "stream",
     "text": [
      "mafft data/enolase.part001.fa\n"
     ]
    }
   ],
   "source": [
    "#hide\n",
    "test_mafftFile,test_mafftOut = run_mafft(\"data/enolase.part001.fa\")"
   ]
  },
  {
   "cell_type": "code",
   "execution_count": null,
   "metadata": {},
   "outputs": [
    {
     "data": {
      "text/plain": [
       "'data/enolase.part001.fa.aln'"
      ]
     },
     "execution_count": null,
     "metadata": {},
     "output_type": "execute_result"
    }
   ],
   "source": [
    "#hide\n",
    "test_mafftFile"
   ]
  },
  {
   "cell_type": "code",
   "execution_count": null,
   "metadata": {},
   "outputs": [
    {
     "data": {
      "text/plain": [
       "<<class 'Bio.Align.MultipleSeqAlignment'> instance (10 records of length 490) at 11c54efa0>"
      ]
     },
     "execution_count": null,
     "metadata": {},
     "output_type": "execute_result"
    }
   ],
   "source": [
    "#hide\n",
    "test_mafftOut"
   ]
  },
  {
   "cell_type": "code",
   "execution_count": null,
   "metadata": {},
   "outputs": [
    {
     "data": {
      "text/plain": [
       "'data/enolase.part001.fa.aln'"
      ]
     },
     "execution_count": null,
     "metadata": {},
     "output_type": "execute_result"
    }
   ],
   "source": [
    "#hide\n",
    "writeAln(test_mafft,\"data/enolase.part001.fa\")"
   ]
  },
  {
   "cell_type": "code",
   "execution_count": null,
   "metadata": {},
   "outputs": [],
   "source": [
    "#export\n",
    "def fa2sto(faFile): \n",
    "    fa = AlignIO.read(faFile,\"fasta\")\n",
    "    stoFile = faFile + \".sto\"\n",
    "    AlignIO.write(fa,stoFile,\"stockholm\")\n",
    "    \n",
    "\n",
    "    return stoFile"
   ]
  },
  {
   "cell_type": "code",
   "execution_count": null,
   "metadata": {},
   "outputs": [
    {
     "data": {
      "text/plain": [
       "'data/enolase.part001.fa.aln.sto'"
      ]
     },
     "execution_count": null,
     "metadata": {},
     "output_type": "execute_result"
    }
   ],
   "source": [
    "#hide\n",
    "fa2sto(\"data/enolase.part001.fa.aln\")"
   ]
  },
  {
   "cell_type": "code",
   "execution_count": null,
   "metadata": {},
   "outputs": [],
   "source": []
  }
 ],
 "metadata": {
  "kernelspec": {
   "display_name": "duomolog",
   "language": "python",
   "name": "duomolog"
  }
 },
 "nbformat": 4,
 "nbformat_minor": 2
}
