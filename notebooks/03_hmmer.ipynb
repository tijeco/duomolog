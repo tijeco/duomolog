{
 "cells": [
  {
   "cell_type": "code",
   "execution_count": null,
   "metadata": {},
   "outputs": [],
   "source": [
    "# default_exp hmmer"
   ]
  },
  {
   "cell_type": "code",
   "execution_count": null,
   "metadata": {},
   "outputs": [],
   "source": [
    "#export\n",
    "import pyhmmer\n",
    "import shlex, subprocess\n",
    "import os"
   ]
  },
  {
   "cell_type": "code",
   "execution_count": null,
   "metadata": {},
   "outputs": [],
   "source": [
    "#hide\n",
    "def build_hmm(alnFile):\n",
    "    abc = pyhmmer.easel.Alphabet.amino()\n",
    "    builder = pyhmmer.plan7.Builder(alphabet=abc)\n",
    "\n",
    "    with pyhmmer.easel.MSAFile(alnFile) as msa_file:\n",
    "        msa_file.set_digital(abc)\n",
    "        msa = next(msa_file)\n",
    "\n",
    "    # MSA must have a name, otherwise building will fail\n",
    "    if msa.name is None:\n",
    "        msa.name = b\"alignment\"\n",
    "    builder = pyhmmer.plan7.Builder(abc)\n",
    "    background = pyhmmer.plan7.Background(abc)\n",
    "    hmm, _, _ = builder.build_msa(msa, background)\n",
    "\n",
    "    # hmm, _, _ = builder.build_msa(msa, Background(abc))\n",
    "\n",
    "    return hmm"
   ]
  },
  {
   "cell_type": "code",
   "execution_count": null,
   "metadata": {},
   "outputs": [],
   "source": [
    "#export\n",
    "def alnFile2hmmFile(alnFile):\n",
    "\tdevnull = open(os.devnull, 'w')\n",
    "\thmmFile = alnFile+\".hmm\"\n",
    "\tcall_list = ''.join(['hmmbuild ',hmmFile,' ', alnFile])   \n",
    "\tcommands = shlex.split(call_list)  \n",
    "\tsubprocess.Popen(commands, stdin=subprocess.PIPE, stderr=subprocess.PIPE,stdout=devnull).communicate()\n",
    "\t\n",
    "\treturn hmmFile"
   ]
  },
  {
   "cell_type": "code",
   "execution_count": null,
   "metadata": {},
   "outputs": [
    {
     "data": {
      "text/plain": [
       "<pyhmmer.plan7.HMM at 0x109d75080>"
      ]
     },
     "execution_count": null,
     "metadata": {},
     "output_type": "execute_result"
    }
   ],
   "source": [
    "#hide\n",
    "build_hmm(\"data/enolase.part001.fa.aln\")"
   ]
  },
  {
   "cell_type": "code",
   "execution_count": null,
   "metadata": {},
   "outputs": [
    {
     "data": {
      "text/plain": [
       "'data/enolase.part001.fa.aln.hmm'"
      ]
     },
     "execution_count": null,
     "metadata": {},
     "output_type": "execute_result"
    }
   ],
   "source": [
    "#hide\n",
    "test_alnFile2hmmFile = alnFile2hmmFile(\"data/enolase.part001.fa.aln\")\n",
    "test_alnFile2hmmFile"
   ]
  },
  {
   "cell_type": "code",
   "execution_count": null,
   "metadata": {},
   "outputs": [],
   "source": [
    "#export\n",
    "def load_hmm(hmmFile):\n",
    "    with pyhmmer.plan7.HMMFile(hmmFile) as h:\n",
    "        hmm = next(h)\n",
    "    return hmm"
   ]
  },
  {
   "cell_type": "code",
   "execution_count": null,
   "metadata": {},
   "outputs": [],
   "source": [
    "#hide\n",
    "test_hmm = load_hmm(test_alnFile2hmmFile)"
   ]
  },
  {
   "cell_type": "code",
   "execution_count": null,
   "metadata": {},
   "outputs": [],
   "source": [
    "#export\n",
    "def run_hmmsearch(queryFile, alnFile=None, hmmFile=None, writeHMM=True):\n",
    "    if writeHMM:\n",
    "        if alnFile != None:\n",
    "            hmmFile = alnFile2hmmFile(alnFile)\n",
    "        hmm = load_hmm(hmmFile)\n",
    "    else:\n",
    "        hmm = build_hmm(alnFile)\n",
    "\n",
    "    with pyhmmer.easel.SequenceFile(queryFile) as seq_file:\n",
    "        sequences = [ seq.digitize(hmm.alphabet) for seq in seq_file ]\n",
    "    pipeline = pyhmmer.plan7.Pipeline(hmm.alphabet)\n",
    "    hits = pipeline.search_hmm(hmm, sequences) # Has lots of goodies!\n",
    "    return hits\n"
   ]
  },
  {
   "cell_type": "code",
   "execution_count": null,
   "metadata": {},
   "outputs": [],
   "source": [
    "#hide\n",
    "test_run_hmmer = run_hmmer(\"data/enolase.part002.fa\",test_hmm)"
   ]
  },
  {
   "cell_type": "code",
   "execution_count": null,
   "metadata": {},
   "outputs": [
    {
     "data": {
      "text/plain": [
       "<pyhmmer.plan7.TopHits at 0x109b9c420>"
      ]
     },
     "execution_count": null,
     "metadata": {},
     "output_type": "execute_result"
    }
   ],
   "source": [
    "#hide\n",
    "test_run_hmmer"
   ]
  },
  {
   "cell_type": "code",
   "execution_count": null,
   "metadata": {},
   "outputs": [],
   "source": []
  }
 ],
 "metadata": {
  "kernelspec": {
   "display_name": "duomolog",
   "language": "python",
   "name": "duomolog"
  }
 },
 "nbformat": 4,
 "nbformat_minor": 2
}
